{
 "cells": [
  {
   "cell_type": "code",
   "execution_count": 1,
   "metadata": {},
   "outputs": [],
   "source": [
    "# We will use speech_recognition module for speech recognition.\n",
    "import speech_recognition as sr"
   ]
  },
  {
   "cell_type": "code",
   "execution_count": 2,
   "metadata": {},
   "outputs": [],
   "source": [
    "# Creating Speech recognition instance\n",
    "recog = sr.Recognizer()"
   ]
  },
  {
   "cell_type": "code",
   "execution_count": 3,
   "metadata": {},
   "outputs": [
    {
     "data": {
      "text/plain": [
       "<speech_recognition.Recognizer at 0x18c05faa790>"
      ]
     },
     "execution_count": 3,
     "metadata": {},
     "output_type": "execute_result"
    }
   ],
   "source": [
    "recog"
   ]
  },
  {
   "cell_type": "code",
   "execution_count": 4,
   "metadata": {},
   "outputs": [
    {
     "ename": "AttributeError",
     "evalue": "module 'speech_recognition' has no attribute 'AudioFile'",
     "output_type": "error",
     "traceback": [
      "\u001b[1;31m---------------------------------------------------------------------------\u001b[0m",
      "\u001b[1;31mAttributeError\u001b[0m                            Traceback (most recent call last)",
      "\u001b[1;32mc:\\Users\\smc\\Downloads\\Speech Recognition Using Google API.ipynb Cell 4'\u001b[0m in \u001b[0;36m<cell line: 5>\u001b[1;34m()\u001b[0m\n\u001b[0;32m      <a href='vscode-notebook-cell:/c%3A/Users/smc/Downloads/Speech%20Recognition%20Using%20Google%20API.ipynb#ch0000003?line=0'>1</a>\u001b[0m \u001b[39m# Using reocrded audio file.\u001b[39;00m\n\u001b[0;32m      <a href='vscode-notebook-cell:/c%3A/Users/smc/Downloads/Speech%20Recognition%20Using%20Google%20API.ipynb#ch0000003?line=1'>2</a>\u001b[0m \u001b[39m# Audio file should be in wav format.\u001b[39;00m\n\u001b[0;32m      <a href='vscode-notebook-cell:/c%3A/Users/smc/Downloads/Speech%20Recognition%20Using%20Google%20API.ipynb#ch0000003?line=3'>4</a>\u001b[0m filename \u001b[39m=\u001b[39m \u001b[39minput\u001b[39m(\u001b[39m\"\u001b[39m\u001b[39mPlease provide the file with extension: \u001b[39m\u001b[39m\"\u001b[39m) \u001b[39m# our file extension should by .wav\u001b[39;00m\n\u001b[1;32m----> <a href='vscode-notebook-cell:/c%3A/Users/smc/Downloads/Speech%20Recognition%20Using%20Google%20API.ipynb#ch0000003?line=4'>5</a>\u001b[0m \u001b[39mwith\u001b[39;00m sr\u001b[39m.\u001b[39;49mAudioFile(filename) \u001b[39mas\u001b[39;00m source:\n\u001b[0;32m      <a href='vscode-notebook-cell:/c%3A/Users/smc/Downloads/Speech%20Recognition%20Using%20Google%20API.ipynb#ch0000003?line=5'>6</a>\u001b[0m     audiofile \u001b[39m=\u001b[39m recog\u001b[39m.\u001b[39mlisten(source)\n\u001b[0;32m      <a href='vscode-notebook-cell:/c%3A/Users/smc/Downloads/Speech%20Recognition%20Using%20Google%20API.ipynb#ch0000003?line=6'>7</a>\u001b[0m     \u001b[39mtry\u001b[39;00m:\n",
      "\u001b[1;31mAttributeError\u001b[0m: module 'speech_recognition' has no attribute 'AudioFile'"
     ]
    }
   ],
   "source": [
    "# Using reocrded audio file.\n",
    "# Audio file should be in wav format.\n",
    "\n",
    "filename = input(\"Please provide the file with extension: \") # our file extension should by .wav\n",
    "with sr.AudioFile(filename) as source:\n",
    "    audiofile = recog.listen(source)\n",
    "    try:\n",
    "        text= recog.recognize_google(audiofile)\n",
    "        print(text)\n",
    "    except:\n",
    "        print('Check internet connectivity')"
   ]
  },
  {
   "cell_type": "code",
   "execution_count": 5,
   "metadata": {},
   "outputs": [
    {
     "ename": "AttributeError",
     "evalue": "module 'speech_recognition' has no attribute 'Microphone'",
     "output_type": "error",
     "traceback": [
      "\u001b[1;31m---------------------------------------------------------------------------\u001b[0m",
      "\u001b[1;31mAttributeError\u001b[0m                            Traceback (most recent call last)",
      "\u001b[1;32mc:\\Users\\smc\\Downloads\\Speech Recognition Using Google API.ipynb Cell 5'\u001b[0m in \u001b[0;36m<cell line: 3>\u001b[1;34m()\u001b[0m\n\u001b[0;32m      <a href='vscode-notebook-cell:/c%3A/Users/smc/Downloads/Speech%20Recognition%20Using%20Google%20API.ipynb#ch0000004?line=0'>1</a>\u001b[0m \u001b[39m# Using Microphone to grab audio and convert that to text.\u001b[39;00m\n\u001b[1;32m----> <a href='vscode-notebook-cell:/c%3A/Users/smc/Downloads/Speech%20Recognition%20Using%20Google%20API.ipynb#ch0000004?line=2'>3</a>\u001b[0m \u001b[39mwith\u001b[39;00m sr\u001b[39m.\u001b[39;49mMicrophone() \u001b[39mas\u001b[39;00m source:\n\u001b[0;32m      <a href='vscode-notebook-cell:/c%3A/Users/smc/Downloads/Speech%20Recognition%20Using%20Google%20API.ipynb#ch0000004?line=3'>4</a>\u001b[0m     audio \u001b[39m=\u001b[39m recog\u001b[39m.\u001b[39mlisten(source)\n\u001b[0;32m      <a href='vscode-notebook-cell:/c%3A/Users/smc/Downloads/Speech%20Recognition%20Using%20Google%20API.ipynb#ch0000004?line=4'>5</a>\u001b[0m     \u001b[39mtry\u001b[39;00m:\n",
      "\u001b[1;31mAttributeError\u001b[0m: module 'speech_recognition' has no attribute 'Microphone'"
     ]
    }
   ],
   "source": [
    "# Using Microphone to grab audio and convert that to text.\n",
    "\n",
    "with sr.Microphone() as source:\n",
    "    audio = recog.listen(source)\n",
    "    try:\n",
    "        text  = recog.recognize_google(audio)\n",
    "        print(text)\n",
    "    except:\n",
    "        print('Internet connectivity issue')"
   ]
  },
  {
   "cell_type": "code",
   "execution_count": null,
   "metadata": {},
   "outputs": [],
   "source": []
  }
 ],
 "metadata": {
  "kernelspec": {
   "display_name": "Python 3.9.13 64-bit (windows store)",
   "language": "python",
   "name": "python3"
  },
  "language_info": {
   "codemirror_mode": {
    "name": "ipython",
    "version": 3
   },
   "file_extension": ".py",
   "mimetype": "text/x-python",
   "name": "python",
   "nbconvert_exporter": "python",
   "pygments_lexer": "ipython3",
   "version": "3.9.13"
  },
  "vscode": {
   "interpreter": {
    "hash": "6835d9fe011f9b9b6e9e06fc5a1c0249a1ff15e0548ee4eba42d12a34bc46c6c"
   }
  }
 },
 "nbformat": 4,
 "nbformat_minor": 4
}
